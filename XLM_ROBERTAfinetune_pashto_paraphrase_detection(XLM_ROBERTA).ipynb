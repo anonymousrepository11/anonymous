{
  "cells": [
    {
      "cell_type": "code",
      "execution_count": null,
      "metadata": {
        "colab": {
          "base_uri": "https://localhost:8080/"
        },
        "id": "_jfsxSKfZnd9",
        "outputId": "946ede09-681f-4b7d-9508-6290ea798afb"
      },
      "outputs": [
        {
          "name": "stdout",
          "output_type": "stream",
          "text": [
            "\u001b[2K     \u001b[90m━━━━━━━━━━━━━━━━━━━━━━━━━━━━━━━━━━━━━━━━\u001b[0m \u001b[32m7.5/7.5 MB\u001b[0m \u001b[31m19.2 MB/s\u001b[0m eta \u001b[36m0:00:00\u001b[0m\n",
            "\u001b[2K     \u001b[90m━━━━━━━━━━━━━━━━━━━━━━━━━━━━━━━━━━━━━━━━\u001b[0m \u001b[32m1.3/1.3 MB\u001b[0m \u001b[31m35.2 MB/s\u001b[0m eta \u001b[36m0:00:00\u001b[0m\n",
            "\u001b[2K     \u001b[90m━━━━━━━━━━━━━━━━━━━━━━━━━━━━━━━━━━━━━━\u001b[0m \u001b[32m268.8/268.8 kB\u001b[0m \u001b[31m22.9 MB/s\u001b[0m eta \u001b[36m0:00:00\u001b[0m\n",
            "\u001b[2K     \u001b[90m━━━━━━━━━━━━━━━━━━━━━━━━━━━━━━━━━━━━━━━━\u001b[0m \u001b[32m7.8/7.8 MB\u001b[0m \u001b[31m49.6 MB/s\u001b[0m eta \u001b[36m0:00:00\u001b[0m\n",
            "\u001b[2K     \u001b[90m━━━━━━━━━━━━━━━━━━━━━━━━━━━━━━━━━━━━━━━━\u001b[0m \u001b[32m1.3/1.3 MB\u001b[0m \u001b[31m47.6 MB/s\u001b[0m eta \u001b[36m0:00:00\u001b[0m\n",
            "\u001b[2K     \u001b[90m━━━━━━━━━━━━━━━━━━━━━━━━━━━━━━━━━━━━━━\u001b[0m \u001b[32m251.2/251.2 kB\u001b[0m \u001b[31m26.1 MB/s\u001b[0m eta \u001b[36m0:00:00\u001b[0m\n",
            "\u001b[?25h"
          ]
        }
      ],
      "source": [
        "# Install Libraries\n",
        "!pip install -qq transformers[torch] sentencepiece"
      ]
    },
    {
      "cell_type": "code",
      "execution_count": null,
      "metadata": {
        "id": "HWur62QLZCfh"
      },
      "outputs": [],
      "source": [
        "# Import Libraries\n",
        "import time\n",
        "import json\n",
        "\n",
        "import numpy as np\n",
        "import pandas as pd\n",
        "\n",
        "import torch\n",
        "from torch.utils.data import Dataset, DataLoader\n",
        "from transformers import XLMRobertaTokenizer, XLMRobertaForSequenceClassification\n",
        "from transformers import Trainer, TrainingArguments\n",
        "from transformers import AdamW, get_linear_schedule_with_warmup"
      ]
    },
    {
      "cell_type": "code",
      "execution_count": null,
      "metadata": {
        "colab": {
          "base_uri": "https://localhost:8080/"
        },
        "id": "LDAH2nyibetz",
        "outputId": "e92d1e03-aa14-430c-b4e8-5bb526e03c46"
      },
      "outputs": [
        {
          "data": {
            "text/plain": [
              "True"
            ]
          },
          "execution_count": 3,
          "metadata": {},
          "output_type": "execute_result"
        }
      ],
      "source": [
        "## make sure that gpu is available\n",
        "torch.cuda.is_available()"
      ]
    },
    {
      "cell_type": "code",
      "execution_count": null,
      "metadata": {
        "colab": {
          "base_uri": "https://localhost:8080/",
          "height": 424
        },
        "id": "EhnEUDLeZWCZ",
        "outputId": "c8db8cbb-ad67-442d-9c76-b86e49004229"
      },
      "outputs": [
        {
          "data": {
            "text/html": [
              "\n",
              "  <div id=\"df-f344d3ef-0ad3-437e-a7b0-f09a17ed856e\" class=\"colab-df-container\">\n",
              "    <div>\n",
              "<style scoped>\n",
              "    .dataframe tbody tr th:only-of-type {\n",
              "        vertical-align: middle;\n",
              "    }\n",
              "\n",
              "    .dataframe tbody tr th {\n",
              "        vertical-align: top;\n",
              "    }\n",
              "\n",
              "    .dataframe thead th {\n",
              "        text-align: right;\n",
              "    }\n",
              "</style>\n",
              "<table border=\"1\" class=\"dataframe\">\n",
              "  <thead>\n",
              "    <tr style=\"text-align: right;\">\n",
              "      <th></th>\n",
              "      <th>sent1</th>\n",
              "      <th>sent2</th>\n",
              "      <th>label</th>\n",
              "    </tr>\n",
              "  </thead>\n",
              "  <tbody>\n",
              "    <tr>\n",
              "      <th>0</th>\n",
              "      <td>امریکا: یوې روسۍ جټ الوتکې د امریکا له بې پیلو...</td>\n",
              "      <td>امریکا وایی، د روسیې یوې الوتکې د امریکا د بې ...</td>\n",
              "      <td>1</td>\n",
              "    </tr>\n",
              "    <tr>\n",
              "      <th>1</th>\n",
              "      <td>د ميلي په وينا، تر اوسه معلومه نه ده، چې بريد ...</td>\n",
              "      <td>میلي وویل چې هغه \"تر اوسه ډاډه نه دی\" چې ایا د...</td>\n",
              "      <td>1</td>\n",
              "    </tr>\n",
              "    <tr>\n",
              "      <th>2</th>\n",
              "      <td>په ترکیه کې د وروستیو زلزلو له امله تر سلو زیا...</td>\n",
              "      <td>په ترکیه کې د وروستۍ زلزلې له امله تر سلو زیات...</td>\n",
              "      <td>0</td>\n",
              "    </tr>\n",
              "    <tr>\n",
              "      <th>3</th>\n",
              "      <td>په سوریه کې یو نوی زیږیدلی ماشوم له خټو څخه ژو...</td>\n",
              "      <td>د ترکیې او سوریې د زلزلې له امله د مړو شمیر ۸۴...</td>\n",
              "      <td>1</td>\n",
              "    </tr>\n",
              "    <tr>\n",
              "      <th>4</th>\n",
              "      <td>دغه زلزله چې شدت یې د ریښتر په کچه ۵.۶ ښودل شو...</td>\n",
              "      <td>د 7.8 درجې زلزلې د دوشنبې په ورځ په داسې حال ک...</td>\n",
              "      <td>0</td>\n",
              "    </tr>\n",
              "    <tr>\n",
              "      <th>...</th>\n",
              "      <td>...</td>\n",
              "      <td>...</td>\n",
              "      <td>...</td>\n",
              "    </tr>\n",
              "    <tr>\n",
              "      <th>5788</th>\n",
              "      <td>د بدخشان ځینې سیمې زلزلې ولړزولې</td>\n",
              "      <td>د افغانستان په شمالي څنډو کې د بدخشان ځینې سیم...</td>\n",
              "      <td>1</td>\n",
              "    </tr>\n",
              "    <tr>\n",
              "      <th>5789</th>\n",
              "      <td>د امریکا د جیولوژۍ د سروې د موندنو له مخې د زل...</td>\n",
              "      <td>باختر دولتي اژانس چې د طالبانو په کنټرول کې دی...</td>\n",
              "      <td>0</td>\n",
              "    </tr>\n",
              "    <tr>\n",
              "      <th>5790</th>\n",
              "      <td>د راپور له مخې په فیض اباد، جرم، اشکاشم په سیم...</td>\n",
              "      <td>د طالبانو امنیتي کسان په سړکونو، لارو کوڅو او ...</td>\n",
              "      <td>0</td>\n",
              "    </tr>\n",
              "    <tr>\n",
              "      <th>5791</th>\n",
              "      <td>چا ته لا د زیانونو د رسېدو په اړه راپورونه نه ...</td>\n",
              "      <td>د ازادي راډیو اورېدونکو هم له بېلابېلو سیمو وی...</td>\n",
              "      <td>0</td>\n",
              "    </tr>\n",
              "    <tr>\n",
              "      <th>5792</th>\n",
              "      <td>د کابل د شاه دوشمشېرې جومات ته نږدې یو طالب. J...</td>\n",
              "      <td>د ملګرو ملتونو د راپورونو له مخې څه باندې ۲۸ م...</td>\n",
              "      <td>0</td>\n",
              "    </tr>\n",
              "  </tbody>\n",
              "</table>\n",
              "<p>5778 rows × 3 columns</p>\n",
              "</div>\n",
              "    <div class=\"colab-df-buttons\">\n",
              "\n",
              "  <div class=\"colab-df-container\">\n",
              "    <button class=\"colab-df-convert\" onclick=\"convertToInteractive('df-f344d3ef-0ad3-437e-a7b0-f09a17ed856e')\"\n",
              "            title=\"Convert this dataframe to an interactive table.\"\n",
              "            style=\"display:none;\">\n",
              "\n",
              "  <svg xmlns=\"http://www.w3.org/2000/svg\" height=\"24px\" viewBox=\"0 -960 960 960\">\n",
              "    <path d=\"M120-120v-720h720v720H120Zm60-500h600v-160H180v160Zm220 220h160v-160H400v160Zm0 220h160v-160H400v160ZM180-400h160v-160H180v160Zm440 0h160v-160H620v160ZM180-180h160v-160H180v160Zm440 0h160v-160H620v160Z\"/>\n",
              "  </svg>\n",
              "    </button>\n",
              "\n",
              "  <style>\n",
              "    .colab-df-container {\n",
              "      display:flex;\n",
              "      gap: 12px;\n",
              "    }\n",
              "\n",
              "    .colab-df-convert {\n",
              "      background-color: #E8F0FE;\n",
              "      border: none;\n",
              "      border-radius: 50%;\n",
              "      cursor: pointer;\n",
              "      display: none;\n",
              "      fill: #1967D2;\n",
              "      height: 32px;\n",
              "      padding: 0 0 0 0;\n",
              "      width: 32px;\n",
              "    }\n",
              "\n",
              "    .colab-df-convert:hover {\n",
              "      background-color: #E2EBFA;\n",
              "      box-shadow: 0px 1px 2px rgba(60, 64, 67, 0.3), 0px 1px 3px 1px rgba(60, 64, 67, 0.15);\n",
              "      fill: #174EA6;\n",
              "    }\n",
              "\n",
              "    .colab-df-buttons div {\n",
              "      margin-bottom: 4px;\n",
              "    }\n",
              "\n",
              "    [theme=dark] .colab-df-convert {\n",
              "      background-color: #3B4455;\n",
              "      fill: #D2E3FC;\n",
              "    }\n",
              "\n",
              "    [theme=dark] .colab-df-convert:hover {\n",
              "      background-color: #434B5C;\n",
              "      box-shadow: 0px 1px 3px 1px rgba(0, 0, 0, 0.15);\n",
              "      filter: drop-shadow(0px 1px 2px rgba(0, 0, 0, 0.3));\n",
              "      fill: #FFFFFF;\n",
              "    }\n",
              "  </style>\n",
              "\n",
              "    <script>\n",
              "      const buttonEl =\n",
              "        document.querySelector('#df-f344d3ef-0ad3-437e-a7b0-f09a17ed856e button.colab-df-convert');\n",
              "      buttonEl.style.display =\n",
              "        google.colab.kernel.accessAllowed ? 'block' : 'none';\n",
              "\n",
              "      async function convertToInteractive(key) {\n",
              "        const element = document.querySelector('#df-f344d3ef-0ad3-437e-a7b0-f09a17ed856e');\n",
              "        const dataTable =\n",
              "          await google.colab.kernel.invokeFunction('convertToInteractive',\n",
              "                                                    [key], {});\n",
              "        if (!dataTable) return;\n",
              "\n",
              "        const docLinkHtml = 'Like what you see? Visit the ' +\n",
              "          '<a target=\"_blank\" href=https://colab.research.google.com/notebooks/data_table.ipynb>data table notebook</a>'\n",
              "          + ' to learn more about interactive tables.';\n",
              "        element.innerHTML = '';\n",
              "        dataTable['output_type'] = 'display_data';\n",
              "        await google.colab.output.renderOutput(dataTable, element);\n",
              "        const docLink = document.createElement('div');\n",
              "        docLink.innerHTML = docLinkHtml;\n",
              "        element.appendChild(docLink);\n",
              "      }\n",
              "    </script>\n",
              "  </div>\n",
              "\n",
              "\n",
              "<div id=\"df-844dea04-bb5a-4746-9bf0-0dcd23fc7fb5\">\n",
              "  <button class=\"colab-df-quickchart\" onclick=\"quickchart('df-844dea04-bb5a-4746-9bf0-0dcd23fc7fb5')\"\n",
              "            title=\"Suggest charts.\"\n",
              "            style=\"display:none;\">\n",
              "\n",
              "<svg xmlns=\"http://www.w3.org/2000/svg\" height=\"24px\"viewBox=\"0 0 24 24\"\n",
              "     width=\"24px\">\n",
              "    <g>\n",
              "        <path d=\"M19 3H5c-1.1 0-2 .9-2 2v14c0 1.1.9 2 2 2h14c1.1 0 2-.9 2-2V5c0-1.1-.9-2-2-2zM9 17H7v-7h2v7zm4 0h-2V7h2v10zm4 0h-2v-4h2v4z\"/>\n",
              "    </g>\n",
              "</svg>\n",
              "  </button>\n",
              "\n",
              "<style>\n",
              "  .colab-df-quickchart {\n",
              "    background-color: #E8F0FE;\n",
              "    border: none;\n",
              "    border-radius: 50%;\n",
              "    cursor: pointer;\n",
              "    display: none;\n",
              "    fill: #1967D2;\n",
              "    height: 32px;\n",
              "    padding: 0 0 0 0;\n",
              "    width: 32px;\n",
              "  }\n",
              "\n",
              "  .colab-df-quickchart:hover {\n",
              "    background-color: #E2EBFA;\n",
              "    box-shadow: 0px 1px 2px rgba(60, 64, 67, 0.3), 0px 1px 3px 1px rgba(60, 64, 67, 0.15);\n",
              "    fill: #174EA6;\n",
              "  }\n",
              "\n",
              "  [theme=dark] .colab-df-quickchart {\n",
              "    background-color: #3B4455;\n",
              "    fill: #D2E3FC;\n",
              "  }\n",
              "\n",
              "  [theme=dark] .colab-df-quickchart:hover {\n",
              "    background-color: #434B5C;\n",
              "    box-shadow: 0px 1px 3px 1px rgba(0, 0, 0, 0.15);\n",
              "    filter: drop-shadow(0px 1px 2px rgba(0, 0, 0, 0.3));\n",
              "    fill: #FFFFFF;\n",
              "  }\n",
              "</style>\n",
              "\n",
              "  <script>\n",
              "    async function quickchart(key) {\n",
              "      const charts = await google.colab.kernel.invokeFunction(\n",
              "          'suggestCharts', [key], {});\n",
              "    }\n",
              "    (() => {\n",
              "      let quickchartButtonEl =\n",
              "        document.querySelector('#df-844dea04-bb5a-4746-9bf0-0dcd23fc7fb5 button');\n",
              "      quickchartButtonEl.style.display =\n",
              "        google.colab.kernel.accessAllowed ? 'block' : 'none';\n",
              "    })();\n",
              "  </script>\n",
              "</div>\n",
              "    </div>\n",
              "  </div>\n"
            ],
            "text/plain": [
              "                                                  sent1  \\\n",
              "0     امریکا: یوې روسۍ جټ الوتکې د امریکا له بې پیلو...   \n",
              "1     د ميلي په وينا، تر اوسه معلومه نه ده، چې بريد ...   \n",
              "2     په ترکیه کې د وروستیو زلزلو له امله تر سلو زیا...   \n",
              "3     په سوریه کې یو نوی زیږیدلی ماشوم له خټو څخه ژو...   \n",
              "4     دغه زلزله چې شدت یې د ریښتر په کچه ۵.۶ ښودل شو...   \n",
              "...                                                 ...   \n",
              "5788                   د بدخشان ځینې سیمې زلزلې ولړزولې   \n",
              "5789  د امریکا د جیولوژۍ د سروې د موندنو له مخې د زل...   \n",
              "5790  د راپور له مخې په فیض اباد، جرم، اشکاشم په سیم...   \n",
              "5791  چا ته لا د زیانونو د رسېدو په اړه راپورونه نه ...   \n",
              "5792  د کابل د شاه دوشمشېرې جومات ته نږدې یو طالب. J...   \n",
              "\n",
              "                                                  sent2  label  \n",
              "0     امریکا وایی، د روسیې یوې الوتکې د امریکا د بې ...      1  \n",
              "1     میلي وویل چې هغه \"تر اوسه ډاډه نه دی\" چې ایا د...      1  \n",
              "2     په ترکیه کې د وروستۍ زلزلې له امله تر سلو زیات...      0  \n",
              "3     د ترکیې او سوریې د زلزلې له امله د مړو شمیر ۸۴...      1  \n",
              "4     د 7.8 درجې زلزلې د دوشنبې په ورځ په داسې حال ک...      0  \n",
              "...                                                 ...    ...  \n",
              "5788  د افغانستان په شمالي څنډو کې د بدخشان ځینې سیم...      1  \n",
              "5789  باختر دولتي اژانس چې د طالبانو په کنټرول کې دی...      0  \n",
              "5790  د طالبانو امنیتي کسان په سړکونو، لارو کوڅو او ...      0  \n",
              "5791  د ازادي راډیو اورېدونکو هم له بېلابېلو سیمو وی...      0  \n",
              "5792  د ملګرو ملتونو د راپورونو له مخې څه باندې ۲۸ م...      0  \n",
              "\n",
              "[5778 rows x 3 columns]"
            ]
          },
          "execution_count": 6,
          "metadata": {},
          "output_type": "execute_result"
        }
      ],
      "source": [
        "## First, upload your csv file using column on the left side (via folder icon -> upload button)\n",
        "## After that, run this cell\n",
        "path_file = '/content/Book5.csv'\n",
        "df = pd.read_csv(path_file)\n",
        "df = df.rename(columns={'sentence 1': 'sent1', 'sentence 2': 'sent2'})\n",
        "df = df.dropna()   ### Some cells seem empty and cause error, fix them when you use\n",
        "df['label'] = df['label'].replace({'P': 1, 'NP': 0})\n",
        "df"
      ]
    },
    {
      "cell_type": "code",
      "execution_count": null,
      "metadata": {
        "colab": {
          "base_uri": "https://localhost:8080/",
          "height": 81,
          "referenced_widgets": [
            "92a950603b074c59bee97577a948c9af",
            "c8a73bec2e51462da4e6b43beea9f1db",
            "76253ba45b5947d6aae421c9d35e4553",
            "6e38da91399843c0b590f8830dc960ec",
            "5895376ed1074cb28fa9a3af22e08078",
            "aeec046050e34da9bd03431c47b2931e",
            "8f2021525a8349eeb4c64a7a477368e1",
            "968612eee60b41c98aaa89d284b5a18a",
            "c3c5908b98a949e28fd965c46c96c9d3",
            "a17bc6eea4814cc7a6f672122a0bc293",
            "b2c793f2285e46a483c11c73a047ad38",
            "0defefcadb694665a4ec8da2a7c1cd52",
            "590a8503df224fc88a181a3f9f5c3c1c",
            "d92e6327b37d4a96a3c401e1b159db4e",
            "e90310f44eb74813ac6c30723d7334d9",
            "34aef6cace5d4e5a98e625fdc5d6e187",
            "bf167a8a566b4a2696c4e9b69a07de86",
            "fd7e48c33eb544eca337c43ea5099315",
            "53c6fe643c944389bfb267c26d1f550c",
            "5b07946ef0614ad882a279c8bcae9a59",
            "16f1be499fdc4abb9cf4a7253573883a",
            "3bcf397dabb34897b3820c8963ba342d"
          ]
        },
        "id": "lk72K12LZWtQ",
        "outputId": "becc51c5-91af-42ff-aefd-04f0d29a8334"
      },
      "outputs": [
        {
          "data": {
            "application/vnd.jupyter.widget-view+json": {
              "model_id": "92a950603b074c59bee97577a948c9af",
              "version_major": 2,
              "version_minor": 0
            },
            "text/plain": [
              "Downloading (…)tencepiece.bpe.model:   0%|          | 0.00/5.07M [00:00<?, ?B/s]"
            ]
          },
          "metadata": {},
          "output_type": "display_data"
        },
        {
          "data": {
            "application/vnd.jupyter.widget-view+json": {
              "model_id": "0defefcadb694665a4ec8da2a7c1cd52",
              "version_major": 2,
              "version_minor": 0
            },
            "text/plain": [
              "Downloading (…)lve/main/config.json:   0%|          | 0.00/615 [00:00<?, ?B/s]"
            ]
          },
          "metadata": {},
          "output_type": "display_data"
        }
      ],
      "source": [
        "## Download a tokenizer using the transformers library\n",
        "tokenizer = XLMRobertaTokenizer.from_pretrained('xlm-roberta-base')"
      ]
    },
    {
      "cell_type": "code",
      "execution_count": null,
      "metadata": {
        "id": "tXtRVbl3ZWyr"
      },
      "outputs": [],
      "source": [
        "## Create dataset\n",
        "# First split dataset into train/dev/test subset\n",
        "num_train = 3000\n",
        "num_dev = 1500\n",
        "num_test = len(df) - num_train - num_dev\n",
        "\n",
        "train_sent1 = df['sent1'].tolist()[:num_train]\n",
        "train_sent2 = df['sent2'].tolist()[:num_train]\n",
        "train_labels = df['label'].tolist()[:num_train]\n",
        "\n",
        "dev_sent1 = df['sent1'].tolist()[num_train:num_train+num_dev]\n",
        "dev_sent2 = df['sent2'].tolist()[num_train:num_train+num_dev]\n",
        "dev_labels = df['label'].tolist()[num_train:num_train+num_dev]\n",
        "\n",
        "test_sent1 = df['sent1'].tolist()[num_train+num_dev:]\n",
        "test_sent2 = df['sent2'].tolist()[num_train+num_dev:]\n",
        "test_labels = df['label'].tolist()[num_train+num_dev:]"
      ]
    },
    {
      "cell_type": "code",
      "execution_count": null,
      "metadata": {
        "id": "Im2JG7zrRZBO"
      },
      "outputs": [],
      "source": [
        "# Define Dataset Class\n",
        "class PashtoPPDataset(Dataset):\n",
        "    def __init__(self, encodings, labels):\n",
        "        self.encodings = encodings\n",
        "        self.labels = labels\n",
        "\n",
        "    def __getitem__(self, idx):\n",
        "        item = {key: torch.tensor(val[idx]) for key, val in self.encodings.items()}\n",
        "        item[\"labels\"] = torch.tensor(self.labels[idx])\n",
        "        return item\n",
        "\n",
        "    def __len__(self):\n",
        "        return len(self.labels)"
      ]
    },
    {
      "cell_type": "code",
      "execution_count": null,
      "metadata": {
        "id": "rpAyKXt0Rj4g"
      },
      "outputs": [],
      "source": [
        "## Encode data\n",
        "train_encodings = tokenizer(train_sent1, train_sent2, truncation=True, padding=True, max_length=256, return_tensors='pt')\n",
        "dev_encodings = tokenizer(dev_sent1, dev_sent2, truncation=True, padding=True, max_length=256, return_tensors='pt')\n",
        "test_encodings = tokenizer(test_sent1, test_sent2, truncation=True, padding=True, max_length=256, return_tensors='pt')\n",
        "\n",
        "train_dataset = PashtoPPDataset(train_encodings, train_labels)\n",
        "dev_dataset = PashtoPPDataset(dev_encodings, dev_labels)\n",
        "test_dataset = PashtoPPDataset(test_encodings, test_labels)"
      ]
    },
    {
      "cell_type": "code",
      "execution_count": null,
      "metadata": {
        "colab": {
          "base_uri": "https://localhost:8080/"
        },
        "id": "qpnRiPQoZW8B",
        "outputId": "22b19b72-55bc-46cf-b443-d34bc79ac2cd"
      },
      "outputs": [
        {
          "name": "stdout",
          "output_type": "stream",
          "text": [
            "Raw Sentence 1 :  طالبان زموږ د امنیت شورا خبرو ته نه دي رسېدلي\n",
            "Raw Sentence 2 :  امنیت شورا: طالبانو زموږ هیلې نه دي پوره کړي\n",
            "Tokenized Sentence Pair :  ['<s>', 'طالبان', 'زموږ', 'د', 'امنیت', 'شورا', 'خبرو', 'ته', 'نه', 'دي', 'رسېدل', 'ي', '</s>', '</s>', 'امنیت', 'شورا', ':', 'طالبانو', 'زموږ', 'هی', 'لې', 'نه', 'دي', 'پوره', 'کړي', '</s>', '<pad>', '<pad>', '<pad>', '<pad>', '<pad>', '<pad>', '<pad>', '<pad>', '<pad>', '<pad>', '<pad>', '<pad>', '<pad>', '<pad>', '<pad>', '<pad>', '<pad>', '<pad>', '<pad>', '<pad>', '<pad>', '<pad>', '<pad>', '<pad>', '<pad>', '<pad>', '<pad>', '<pad>', '<pad>', '<pad>', '<pad>', '<pad>', '<pad>', '<pad>', '<pad>', '<pad>', '<pad>', '<pad>', '<pad>', '<pad>', '<pad>', '<pad>', '<pad>', '<pad>', '<pad>', '<pad>', '<pad>', '<pad>', '<pad>', '<pad>', '<pad>', '<pad>', '<pad>', '<pad>', '<pad>', '<pad>', '<pad>', '<pad>', '<pad>', '<pad>', '<pad>', '<pad>', '<pad>', '<pad>', '<pad>', '<pad>', '<pad>', '<pad>', '<pad>', '<pad>', '<pad>', '<pad>', '<pad>', '<pad>', '<pad>', '<pad>', '<pad>', '<pad>', '<pad>', '<pad>', '<pad>', '<pad>', '<pad>', '<pad>', '<pad>', '<pad>', '<pad>', '<pad>', '<pad>', '<pad>', '<pad>', '<pad>', '<pad>', '<pad>', '<pad>', '<pad>', '<pad>', '<pad>', '<pad>', '<pad>', '<pad>', '<pad>', '<pad>', '<pad>', '<pad>', '<pad>', '<pad>', '<pad>', '<pad>', '<pad>', '<pad>', '<pad>', '<pad>', '<pad>', '<pad>', '<pad>', '<pad>', '<pad>', '<pad>', '<pad>', '<pad>', '<pad>', '<pad>', '<pad>', '<pad>', '<pad>', '<pad>', '<pad>', '<pad>', '<pad>', '<pad>', '<pad>', '<pad>', '<pad>', '<pad>', '<pad>', '<pad>', '<pad>', '<pad>', '<pad>', '<pad>', '<pad>', '<pad>', '<pad>', '<pad>', '<pad>', '<pad>', '<pad>', '<pad>', '<pad>', '<pad>', '<pad>', '<pad>', '<pad>', '<pad>', '<pad>', '<pad>', '<pad>', '<pad>', '<pad>', '<pad>', '<pad>', '<pad>', '<pad>', '<pad>', '<pad>', '<pad>', '<pad>', '<pad>', '<pad>', '<pad>', '<pad>', '<pad>', '<pad>', '<pad>', '<pad>', '<pad>', '<pad>', '<pad>', '<pad>', '<pad>', '<pad>', '<pad>', '<pad>', '<pad>', '<pad>', '<pad>', '<pad>', '<pad>', '<pad>', '<pad>', '<pad>', '<pad>', '<pad>', '<pad>', '<pad>']\n"
          ]
        }
      ],
      "source": [
        "# Check tokenization\n",
        "idx = 10\n",
        "\n",
        "sent_1 = df['sent1'].tolist()[idx]\n",
        "sent_2 = df['sent2'].tolist()[idx]\n",
        "print('Raw Sentence 1 : ', sent_1)\n",
        "print('Raw Sentence 2 : ', sent_2)\n",
        "print('Tokenized Sentence Pair : ', [tokenizer.decode(x) for x in train_encodings['input_ids'][idx]])"
      ]
    },
    {
      "cell_type": "code",
      "execution_count": null,
      "metadata": {
        "colab": {
          "base_uri": "https://localhost:8080/",
          "height": 140,
          "referenced_widgets": [
            "3f172ecad85c4d85936c36273fba08be",
            "a5842025e503450f8938d5d806738885",
            "fe422bf30e834b8dbb8860a22909a0a8",
            "ce164addde2c457ea4db0662dd9e62a3",
            "736f8e00c42543e6974a7296258fc787",
            "17ac7597f4864a4e9ca239b66a738f4f",
            "00c2afdd2c9d4e25810d773ebd1fc4e7",
            "68ed50e2758c43a6ac9730be6b5815de",
            "5acfaa8ac5f24790b90f9acf3d231a87",
            "c51a2d24be3b43b08fc5f4a1c7aae893",
            "09cbd88717654efc84302e8a36343ee9"
          ]
        },
        "id": "QmQIvUkpc_FX",
        "outputId": "5baa6f12-3e64-4913-9f70-89086af69125"
      },
      "outputs": [
        {
          "data": {
            "application/vnd.jupyter.widget-view+json": {
              "model_id": "3f172ecad85c4d85936c36273fba08be",
              "version_major": 2,
              "version_minor": 0
            },
            "text/plain": [
              "Downloading model.safetensors:   0%|          | 0.00/1.12G [00:00<?, ?B/s]"
            ]
          },
          "metadata": {},
          "output_type": "display_data"
        },
        {
          "name": "stderr",
          "output_type": "stream",
          "text": [
            "Some weights of XLMRobertaForSequenceClassification were not initialized from the model checkpoint at xlm-roberta-base and are newly initialized: ['classifier.dense.weight', 'classifier.out_proj.bias', 'classifier.dense.bias', 'classifier.out_proj.weight']\n",
            "You should probably TRAIN this model on a down-stream task to be able to use it for predictions and inference.\n",
            "/usr/local/lib/python3.10/dist-packages/transformers/optimization.py:411: FutureWarning: This implementation of AdamW is deprecated and will be removed in a future version. Use the PyTorch implementation torch.optim.AdamW instead, or set `no_deprecation_warning=True` to disable this warning\n",
            "  warnings.warn(\n"
          ]
        }
      ],
      "source": [
        "# you can chenge these values and check the difference in outputs\n",
        "batch_size = 32\n",
        "num_epochs = 3\n",
        "learning_rate = 2e-5\n",
        "\n",
        "# Load Model\n",
        "model = XLMRobertaForSequenceClassification.from_pretrained('xlm-roberta-base', num_labels=2)\n",
        "\n",
        "# Define Arguments\n",
        "training_args = TrainingArguments(\n",
        "    per_device_train_batch_size=batch_size,\n",
        "    num_train_epochs=num_epochs,\n",
        "    logging_dir=\"./logs\",\n",
        "    logging_steps=5,\n",
        "    output_dir=\"./output\",\n",
        "    evaluation_strategy=\"epoch\",\n",
        ")\n",
        "\n",
        "# Define Optimizer\n",
        "optimizer = AdamW(model.parameters(), lr=learning_rate)\n",
        "\n",
        "# Define Scheduler\n",
        "num_training_steps = len(train_dataset) // training_args.per_device_train_batch_size * training_args.num_train_epochs\n",
        "scheduler = get_linear_schedule_with_warmup(optimizer, num_warmup_steps=0, num_training_steps=num_training_steps)"
      ]
    },
    {
      "cell_type": "code",
      "execution_count": null,
      "metadata": {
        "colab": {
          "background_save": true,
          "base_uri": "https://localhost:8080/",
          "height": 194
        },
        "id": "jUVQL8AOMFp0",
        "outputId": "d782f8e7-7be1-4c1d-94f0-569c842b81f2"
      },
      "outputs": [
        {
          "name": "stderr",
          "output_type": "stream",
          "text": [
            "<ipython-input-9-6a142e7dbb6a>:8: UserWarning: To copy construct from a tensor, it is recommended to use sourceTensor.clone().detach() or sourceTensor.clone().detach().requires_grad_(True), rather than torch.tensor(sourceTensor).\n",
            "  item = {key: torch.tensor(val[idx]) for key, val in self.encodings.items()}\n"
          ]
        },
        {
          "data": {
            "text/html": [
              "\n",
              "    <div>\n",
              "      \n",
              "      <progress value='282' max='282' style='width:300px; height:20px; vertical-align: middle;'></progress>\n",
              "      [282/282 06:43, Epoch 3/3]\n",
              "    </div>\n",
              "    <table border=\"1\" class=\"dataframe\">\n",
              "  <thead>\n",
              " <tr style=\"text-align: left;\">\n",
              "      <th>Epoch</th>\n",
              "      <th>Training Loss</th>\n",
              "      <th>Validation Loss</th>\n",
              "    </tr>\n",
              "  </thead>\n",
              "  <tbody>\n",
              "    <tr>\n",
              "      <td>1</td>\n",
              "      <td>0.326900</td>\n",
              "      <td>0.175063</td>\n",
              "    </tr>\n",
              "    <tr>\n",
              "      <td>2</td>\n",
              "      <td>0.304000</td>\n",
              "      <td>0.175697</td>\n",
              "    </tr>\n",
              "    <tr>\n",
              "      <td>3</td>\n",
              "      <td>0.138300</td>\n",
              "      <td>0.134903</td>\n",
              "    </tr>\n",
              "  </tbody>\n",
              "</table><p>"
            ],
            "text/plain": [
              "<IPython.core.display.HTML object>"
            ]
          },
          "metadata": {},
          "output_type": "display_data"
        },
        {
          "data": {
            "text/plain": [
              "TrainOutput(global_step=282, training_loss=0.33939563821182184, metrics={'train_runtime': 408.2988, 'train_samples_per_second': 22.043, 'train_steps_per_second': 0.691, 'total_flos': 1026749782440000.0, 'train_loss': 0.33939563821182184, 'epoch': 3.0})"
            ]
          },
          "execution_count": 13,
          "metadata": {},
          "output_type": "execute_result"
        }
      ],
      "source": [
        "# Set Trainer\n",
        "trainer = Trainer(\n",
        "    model=model,\n",
        "    args=training_args,\n",
        "    train_dataset=train_dataset,\n",
        "    eval_dataset=dev_dataset,\n",
        "    tokenizer=tokenizer,\n",
        "    optimizers=(optimizer, scheduler),\n",
        ")\n",
        "\n",
        "# Start Fine Tuning\n",
        "trainer.train()"
      ]
    },
    {
      "cell_type": "code",
      "execution_count": null,
      "metadata": {
        "colab": {
          "base_uri": "https://localhost:8080/"
        },
        "id": "vQBo1QHXMFyQ",
        "outputId": "fea0e0bd-d798-42d9-c568-ed06b57cf085"
      },
      "outputs": [
        {
          "data": {
            "text/plain": [
              "[{'loss': 0.6668, 'learning_rate': '0.00002', 'epoch': 0.05, 'step': 5},\n",
              " {'loss': 0.7062, 'learning_rate': '0.00002', 'epoch': 0.11, 'step': 10},\n",
              " {'loss': 0.7112, 'learning_rate': '0.00002', 'epoch': 0.16, 'step': 15},\n",
              " {'loss': 0.7047, 'learning_rate': '0.00002', 'epoch': 0.21, 'step': 20},\n",
              " {'loss': 0.663, 'learning_rate': '0.00002', 'epoch': 0.27, 'step': 25},\n",
              " {'loss': 0.6628, 'learning_rate': '0.00002', 'epoch': 0.32, 'step': 30},\n",
              " {'loss': 0.5647, 'learning_rate': '0.00002', 'epoch': 0.37, 'step': 35},\n",
              " {'loss': 0.5376, 'learning_rate': '0.00002', 'epoch': 0.43, 'step': 40},\n",
              " {'loss': 0.4458, 'learning_rate': '0.00002', 'epoch': 0.48, 'step': 45},\n",
              " {'loss': 0.3314, 'learning_rate': '0.00002', 'epoch': 0.53, 'step': 50},\n",
              " {'loss': 0.35, 'learning_rate': '0.00002', 'epoch': 0.59, 'step': 55},\n",
              " {'loss': 0.3731, 'learning_rate': '0.00002', 'epoch': 0.64, 'step': 60},\n",
              " {'loss': 0.3044, 'learning_rate': '0.00002', 'epoch': 0.69, 'step': 65},\n",
              " {'loss': 0.2333, 'learning_rate': '0.00001', 'epoch': 0.74, 'step': 70},\n",
              " {'loss': 0.2926, 'learning_rate': '0.00001', 'epoch': 0.8, 'step': 75},\n",
              " {'loss': 0.3092, 'learning_rate': '0.00001', 'epoch': 0.85, 'step': 80},\n",
              " {'loss': 0.277, 'learning_rate': '0.00001', 'epoch': 0.9, 'step': 85},\n",
              " {'loss': 0.2945, 'learning_rate': '0.00001', 'epoch': 0.96, 'step': 90},\n",
              " {'eval_loss': 0.10412152111530304,\n",
              "  'eval_runtime': 18.6873,\n",
              "  'eval_samples_per_second': 80.268,\n",
              "  'eval_steps_per_second': 10.06,\n",
              "  'epoch': 1.0,\n",
              "  'step': 94},\n",
              " {'loss': 0.3143, 'learning_rate': '0.00001', 'epoch': 1.01, 'step': 95},\n",
              " {'loss': 0.2276, 'learning_rate': '0.00001', 'epoch': 1.06, 'step': 100},\n",
              " {'loss': 0.3185, 'learning_rate': '0.00001', 'epoch': 1.12, 'step': 105},\n",
              " {'loss': 0.3571, 'learning_rate': '0.00001', 'epoch': 1.17, 'step': 110},\n",
              " {'loss': 0.2922, 'learning_rate': '0.00001', 'epoch': 1.22, 'step': 115},\n",
              " {'loss': 0.2191, 'learning_rate': '0.00001', 'epoch': 1.28, 'step': 120},\n",
              " {'loss': 0.2488, 'learning_rate': '0.00001', 'epoch': 1.33, 'step': 125},\n",
              " {'loss': 0.2252, 'learning_rate': '0.00001', 'epoch': 1.38, 'step': 130},\n",
              " {'loss': 0.225, 'learning_rate': '0.00001', 'epoch': 1.44, 'step': 135},\n",
              " {'loss': 0.4165, 'learning_rate': '0.00001', 'epoch': 1.49, 'step': 140},\n",
              " {'loss': 0.3128, 'learning_rate': '0.00001', 'epoch': 1.54, 'step': 145},\n",
              " {'loss': 0.2442, 'learning_rate': '0.00001', 'epoch': 1.6, 'step': 150},\n",
              " {'loss': 0.2544, 'learning_rate': '0.00001', 'epoch': 1.65, 'step': 155},\n",
              " {'loss': 0.2454, 'learning_rate': '0.00001', 'epoch': 1.7, 'step': 160},\n",
              " {'loss': 0.2288, 'learning_rate': '0.00001', 'epoch': 1.76, 'step': 165},\n",
              " {'loss': 0.2425, 'learning_rate': '0.00001', 'epoch': 1.81, 'step': 170},\n",
              " {'loss': 0.3189, 'learning_rate': '0.00001', 'epoch': 1.86, 'step': 175},\n",
              " {'loss': 0.3825, 'learning_rate': '0.00001', 'epoch': 1.91, 'step': 180},\n",
              " {'loss': 0.3215, 'learning_rate': '0.00001', 'epoch': 1.97, 'step': 185},\n",
              " {'eval_loss': 0.1645682156085968,\n",
              "  'eval_runtime': 18.5237,\n",
              "  'eval_samples_per_second': 80.977,\n",
              "  'eval_steps_per_second': 10.149,\n",
              "  'epoch': 2.0,\n",
              "  'step': 188},\n",
              " {'loss': 0.2558, 'learning_rate': '0.00001', 'epoch': 2.02, 'step': 190},\n",
              " {'loss': 0.225, 'learning_rate': '0.00001', 'epoch': 2.07, 'step': 195},\n",
              " {'loss': 0.209, 'learning_rate': '0.00001', 'epoch': 2.13, 'step': 200},\n",
              " {'loss': 0.2699, 'learning_rate': '0.00001', 'epoch': 2.18, 'step': 205},\n",
              " {'loss': 0.2672, 'learning_rate': '0.00000', 'epoch': 2.23, 'step': 210},\n",
              " {'loss': 0.2418, 'learning_rate': '0.00000', 'epoch': 2.29, 'step': 215},\n",
              " {'loss': 0.1991, 'learning_rate': '0.00000', 'epoch': 2.34, 'step': 220},\n",
              " {'loss': 0.29, 'learning_rate': '0.00000', 'epoch': 2.39, 'step': 225},\n",
              " {'loss': 0.242, 'learning_rate': '0.00000', 'epoch': 2.45, 'step': 230},\n",
              " {'loss': 0.2493, 'learning_rate': '0.00000', 'epoch': 2.5, 'step': 235},\n",
              " {'loss': 0.3369, 'learning_rate': '0.00000', 'epoch': 2.55, 'step': 240},\n",
              " {'loss': 0.2483, 'learning_rate': '0.00000', 'epoch': 2.61, 'step': 245},\n",
              " {'loss': 0.2561, 'learning_rate': '0.00000', 'epoch': 2.66, 'step': 250},\n",
              " {'loss': 0.1832, 'learning_rate': '0.00000', 'epoch': 2.71, 'step': 255},\n",
              " {'loss': 0.2993, 'learning_rate': '0.00000', 'epoch': 2.77, 'step': 260},\n",
              " {'loss': 0.2005, 'learning_rate': '0.00000', 'epoch': 2.82, 'step': 265},\n",
              " {'loss': 0.1576, 'learning_rate': '0.00000', 'epoch': 2.87, 'step': 270},\n",
              " {'loss': 0.1918, 'learning_rate': '0.00000', 'epoch': 2.93, 'step': 275},\n",
              " {'loss': 0.1593, 'learning_rate': '0.00000', 'epoch': 2.98, 'step': 280},\n",
              " {'eval_loss': 0.10870729386806488,\n",
              "  'eval_runtime': 18.5054,\n",
              "  'eval_samples_per_second': 81.057,\n",
              "  'eval_steps_per_second': 10.159,\n",
              "  'epoch': 3.0,\n",
              "  'step': 282},\n",
              " {'train_runtime': 380.4857,\n",
              "  'train_samples_per_second': 23.654,\n",
              "  'train_steps_per_second': 0.741,\n",
              "  'total_flos': 1026749782440000.0,\n",
              "  'train_loss': 0.3250181326206694,\n",
              "  'epoch': 3.0,\n",
              "  'step': 282}]"
            ]
          },
          "execution_count": 26,
          "metadata": {},
          "output_type": "execute_result"
        }
      ],
      "source": [
        "# Display loss per epoch\n",
        "log_history = trainer.state.log_history\n",
        "\n",
        "# just for formatting\n",
        "for entry in log_history:\n",
        "    if 'learning_rate' in entry:\n",
        "        entry['learning_rate'] = format(entry['learning_rate'], '.5f')\n",
        "\n",
        "log_history"
      ]
    },
    {
      "cell_type": "code",
      "execution_count": null,
      "metadata": {
        "colab": {
          "base_uri": "https://localhost:8080/",
          "height": 394
        },
        "id": "duumDcVrMF66",
        "outputId": "4b8f0958-e32c-446a-d276-fa101ec33b30"
      },
      "outputs": [
        {
          "name": "stderr",
          "output_type": "stream",
          "text": [
            "<ipython-input-21-6a142e7dbb6a>:8: UserWarning: To copy construct from a tensor, it is recommended to use sourceTensor.clone().detach() or sourceTensor.clone().detach().requires_grad_(True), rather than torch.tensor(sourceTensor).\n",
            "  item = {key: torch.tensor(val[idx]) for key, val in self.encodings.items()}\n"
          ]
        },
        {
          "data": {
            "text/html": [],
            "text/plain": [
              "<IPython.core.display.HTML object>"
            ]
          },
          "metadata": {},
          "output_type": "display_data"
        },
        {
          "name": "stdout",
          "output_type": "stream",
          "text": [
            "\n",
            "### Train ###\n",
            "Predict Paraphrase : 1321, Non-Paraphrase : 1679\n",
            "Actual Paraphrase : 1308, Non-Paraphrase : 1692\n",
            "Accuracy : 0.9410\n",
            "\n"
          ]
        },
        {
          "data": {
            "text/html": [],
            "text/plain": [
              "<IPython.core.display.HTML object>"
            ]
          },
          "metadata": {},
          "output_type": "display_data"
        },
        {
          "name": "stdout",
          "output_type": "stream",
          "text": [
            "\n",
            "### Dev ###\n",
            "Predict Paraphrase : 960, Non-Paraphrase : 540\n",
            "Actual Paraphrase : 972, Non-Paraphrase : 528\n",
            "Accuracy : 0.9680\n",
            "\n"
          ]
        },
        {
          "data": {
            "text/html": [],
            "text/plain": [
              "<IPython.core.display.HTML object>"
            ]
          },
          "metadata": {},
          "output_type": "display_data"
        },
        {
          "name": "stdout",
          "output_type": "stream",
          "text": [
            "\n",
            "### Test ###\n",
            "Predict Paraphrase : 797, Non-Paraphrase : 481\n",
            "Actual Paraphrase : 796, Non-Paraphrase : 482\n",
            "Accuracy : 0.9820\n",
            "\n"
          ]
        }
      ],
      "source": [
        "## Check Result\n",
        "\n",
        "# On trained data\n",
        "prediction = trainer.predict(train_dataset)\n",
        "predicted_labels = prediction.predictions.argmax(axis=1)\n",
        "accuracy_train = (predicted_labels == train_labels).sum() / len(train_labels)\n",
        "print()\n",
        "print('### Train ###')\n",
        "print('Predict Paraphrase : {}, Non-Paraphrase : {}'.format(sum(predicted_labels), len(predicted_labels)-sum(predicted_labels)))\n",
        "print('Actual Paraphrase : {}, Non-Paraphrase : {}'.format(sum(train_labels), len(train_labels)-sum(train_labels)))\n",
        "print('Accuracy : {:.4f}'.format(accuracy_train ))\n",
        "print()\n",
        "\n",
        "# On dev data\n",
        "prediction = trainer.predict(dev_dataset)\n",
        "predicted_labels = prediction.predictions.argmax(axis=1)\n",
        "accuracy_dev = (predicted_labels == dev_labels).sum() / len(dev_labels)\n",
        "print()\n",
        "print('### Dev ###')\n",
        "print('Predict Paraphrase : {}, Non-Paraphrase : {}'.format(sum(predicted_labels), len(predicted_labels)-sum(predicted_labels)))\n",
        "print('Actual Paraphrase : {}, Non-Paraphrase : {}'.format(sum(dev_labels), len(dev_labels)-sum(dev_labels)))\n",
        "print('Accuracy : {:.4f}'.format(accuracy_dev))\n",
        "print()\n",
        "\n",
        "# On test data\n",
        "prediction = trainer.predict(test_dataset)\n",
        "predicted_labels = prediction.predictions.argmax(axis=1)\n",
        "accuracy_test = (predicted_labels == test_labels).sum() / len(test_labels)\n",
        "print()\n",
        "print('### Test ###')\n",
        "print('Predict Paraphrase : {}, Non-Paraphrase : {}'.format(sum(predicted_labels), len(predicted_labels)-sum(predicted_labels)))\n",
        "print('Actual Paraphrase : {}, Non-Paraphrase : {}'.format(sum(test_labels), len(test_labels)-sum(test_labels)))\n",
        "print('Accuracy : {:.4f}'.format(accuracy_test))\n",
        "print()\n"
      ]
    },
    {
      "cell_type": "code",
      "execution_count": null,
      "metadata": {
        "colab": {
          "base_uri": "https://localhost:8080/",
          "height": 668
        },
        "id": "XC2q1q49XyiC",
        "outputId": "72748762-3173-42ef-a919-18b186200269"
      },
      "outputs": [
        {
          "name": "stdout",
          "output_type": "stream",
          "text": [
            "Requirement already satisfied: matplotlib in /usr/local/lib/python3.10/dist-packages (3.7.1)\n",
            "Requirement already satisfied: contourpy>=1.0.1 in /usr/local/lib/python3.10/dist-packages (from matplotlib) (1.1.0)\n",
            "Requirement already satisfied: cycler>=0.10 in /usr/local/lib/python3.10/dist-packages (from matplotlib) (0.11.0)\n",
            "Requirement already satisfied: fonttools>=4.22.0 in /usr/local/lib/python3.10/dist-packages (from matplotlib) (4.41.0)\n",
            "Requirement already satisfied: kiwisolver>=1.0.1 in /usr/local/lib/python3.10/dist-packages (from matplotlib) (1.4.4)\n",
            "Requirement already satisfied: numpy>=1.20 in /usr/local/lib/python3.10/dist-packages (from matplotlib) (1.22.4)\n",
            "Requirement already satisfied: packaging>=20.0 in /usr/local/lib/python3.10/dist-packages (from matplotlib) (23.1)\n",
            "Requirement already satisfied: pillow>=6.2.0 in /usr/local/lib/python3.10/dist-packages (from matplotlib) (8.4.0)\n",
            "Requirement already satisfied: pyparsing>=2.3.1 in /usr/local/lib/python3.10/dist-packages (from matplotlib) (3.1.0)\n",
            "Requirement already satisfied: python-dateutil>=2.7 in /usr/local/lib/python3.10/dist-packages (from matplotlib) (2.8.2)\n",
            "Requirement already satisfied: six>=1.5 in /usr/local/lib/python3.10/dist-packages (from python-dateutil>=2.7->matplotlib) (1.16.0)\n"
          ]
        },
        {
          "data": {
            "image/png": "[encoded data removed]",
            "text/plain": [
              "<Figure size 640x480 with 1 Axes>"
            ]
          },
          "metadata": {},
          "output_type": "display_data"
        }
      ],
      "source": [
        "!pip install matplotlib\n",
        "import matplotlib.pyplot as plt\n",
        "\n",
        "# Plotting the accuracies\n",
        "labels = ['Train', 'Dev', 'Test']\n",
        "accuracies = [accuracy_train, accuracy_dev, accuracy_test]\n",
        "\n",
        "plt.bar(labels, accuracies, color=['blue', 'green', 'orange'])\n",
        "plt.xlabel('Datasets')\n",
        "plt.ylabel('Accuracy')\n",
        "plt.title('Accuracy on Different Datasets')\n",
        "plt.ylim(0, 1.0)  # Set the y-axis range from 0 to 1.0\n",
        "plt.show()\n"
      ]
    },
    {
      "cell_type": "code",
      "execution_count": null,
      "metadata": {
        "colab": {
          "base_uri": "https://localhost:8080/",
          "height": 73
        },
        "id": "fwlazA6QMpu_",
        "outputId": "3e5a21b6-549e-4631-9df4-4206639ae999"
      },
      "outputs": [
        {
          "name": "stderr",
          "output_type": "stream",
          "text": [
            "<ipython-input-21-6a142e7dbb6a>:8: UserWarning: To copy construct from a tensor, it is recommended to use sourceTensor.clone().detach() or sourceTensor.clone().detach().requires_grad_(True), rather than torch.tensor(sourceTensor).\n",
            "  item = {key: torch.tensor(val[idx]) for key, val in self.encodings.items()}\n"
          ]
        },
        {
          "data": {
            "text/html": [],
            "text/plain": [
              "<IPython.core.display.HTML object>"
            ]
          },
          "metadata": {},
          "output_type": "display_data"
        }
      ],
      "source": [
        "# Assuming you have defined 'test_dataset' and 'trainer'\n",
        "test_preds_raw = trainer.predict(test_dataset).predictions\n"
      ]
    },
    {
      "cell_type": "code",
      "execution_count": null,
      "metadata": {
        "colab": {
          "base_uri": "https://localhost:8080/"
        },
        "id": "sTywz3F6ArAX",
        "outputId": "50b3960b-1efc-49ea-a2a6-8db6340d7025"
      },
      "outputs": [
        {
          "name": "stdout",
          "output_type": "stream",
          "text": [
            "              precision    recall  f1-score   support\n",
            "\n",
            "           0      0.977     0.975     0.976       482\n",
            "           1      0.985     0.986     0.986       796\n",
            "\n",
            "    accuracy                          0.982      1278\n",
            "   macro avg      0.981     0.981     0.981      1278\n",
            "weighted avg      0.982     0.982     0.982      1278\n",
            "\n"
          ]
        }
      ],
      "source": [
        "from transformers import TrainingArguments\n",
        "from sklearn.metrics import classification_report\n",
        "\n",
        "# Assuming you have defined the 'test_labels' variable\n",
        "test_preds = np.argmax(test_preds_raw, axis=-1)\n",
        "print(classification_report(test_labels, test_preds, digits=3))\n"
      ]
    },
    {
      "cell_type": "code",
      "execution_count": null,
      "metadata": {
        "colab": {
          "base_uri": "https://localhost:8080/",
          "height": 564
        },
        "id": "1gjfqD8zXlN-",
        "outputId": "c4fd3f81-de94-4fe9-81ff-dafcf4e4a935"
      },
      "outputs": [
        {
          "data": {
            "image/png": "[encoded data removed]",
            "text/plain": [
              "<Figure size 800x600 with 2 Axes>"
            ]
          },
          "metadata": {},
          "output_type": "display_data"
        }
      ],
      "source": [
        "from transformers import TrainingArguments\n",
        "from sklearn.metrics import classification_report\n",
        "import seaborn as sns\n",
        "import matplotlib.pyplot as plt\n",
        "\n",
        "# Assuming you have defined the 'test_dataset', 'trainer', and 'test_preds_raw' variables\n",
        "test_preds = np.argmax(test_preds_raw, axis=-1)\n",
        "report = classification_report(test_labels, test_preds, digits=3, output_dict=True)\n",
        "\n",
        "# Convert the classification report dictionary to a DataFrame\n",
        "report_df = pd.DataFrame(report).transpose()\n",
        "\n",
        "# Plot the classification report using a heatmap\n",
        "plt.figure(figsize=(8, 6))\n",
        "sns.heatmap(report_df.iloc[:-1, :].T, annot=True, cmap=\"YlGnBu\", fmt=\".3f\")\n",
        "plt.title(\"Classification Report Heatmap\")\n",
        "plt.xlabel(\"Metrics\")\n",
        "plt.ylabel(\"Classes\")\n",
        "plt.show()\n"
      ]
    }
  ],
  "metadata": {
    "accelerator": "GPU",
    "colab": {
      "provenance": []
    },
    "kernelspec": {
      "display_name": "Python 3",
      "name": "python3"
    },
    "language_info": {
      "name": "python"
    },
    "widgets": {
      "application/vnd.jupyter.widget-state+json": {
        "00c2afdd2c9d4e25810d773ebd1fc4e7": {
          "model_module": "@jupyter-widgets/controls",
          "model_module_version": "1.5.0",
          "model_name": "DescriptionStyleModel",
          "state": {
            "_model_module": "@jupyter-widgets/controls",
            "_model_module_version": "1.5.0",
            "_model_name": "DescriptionStyleModel",
            "_view_count": null,
            "_view_module": "@jupyter-widgets/base",
            "_view_module_version": "1.2.0",
            "_view_name": "StyleView",
            "description_width": ""
          }
        },
        "09cbd88717654efc84302e8a36343ee9": {
          "model_module": "@jupyter-widgets/controls",
          "model_module_version": "1.5.0",
          "model_name": "DescriptionStyleModel",
          "state": {
            "_model_module": "@jupyter-widgets/controls",
            "_model_module_version": "1.5.0",
            "_model_name": "DescriptionStyleModel",
            "_view_count": null,
            "_view_module": "@jupyter-widgets/base",
            "_view_module_version": "1.2.0",
            "_view_name": "StyleView",
            "description_width": ""
          }
        },
        "0defefcadb694665a4ec8da2a7c1cd52": {
          "model_module": "@jupyter-widgets/controls",
          "model_module_version": "1.5.0",
          "model_name": "HBoxModel",
          "state": {
            "_dom_classes": [],
            "_model_module": "@jupyter-widgets/controls",
            "_model_module_version": "1.5.0",
            "_model_name": "HBoxModel",
            "_view_count": null,
            "_view_module": "@jupyter-widgets/controls",
            "_view_module_version": "1.5.0",
            "_view_name": "HBoxView",
            "box_style": "",
            "children": [
              "IPY_MODEL_590a8503df224fc88a181a3f9f5c3c1c",
              "IPY_MODEL_d92e6327b37d4a96a3c401e1b159db4e",
              "IPY_MODEL_e90310f44eb74813ac6c30723d7334d9"
            ],
            "layout": "IPY_MODEL_34aef6cace5d4e5a98e625fdc5d6e187"
          }
        },
        "16f1be499fdc4abb9cf4a7253573883a": {
          "model_module": "@jupyter-widgets/base",
          "model_module_version": "1.2.0",
          "model_name": "LayoutModel",
          "state": {
            "_model_module": "@jupyter-widgets/base",
            "_model_module_version": "1.2.0",
            "_model_name": "LayoutModel",
            "_view_count": null,
            "_view_module": "@jupyter-widgets/base",
            "_view_module_version": "1.2.0",
            "_view_name": "LayoutView",
            "align_content": null,
            "align_items": null,
            "align_self": null,
            "border": null,
            "bottom": null,
            "display": null,
            "flex": null,
            "flex_flow": null,
            "grid_area": null,
            "grid_auto_columns": null,
            "grid_auto_flow": null,
            "grid_auto_rows": null,
            "grid_column": null,
            "grid_gap": null,
            "grid_row": null,
            "grid_template_areas": null,
            "grid_template_columns": null,
            "grid_template_rows": null,
            "height": null,
            "justify_content": null,
            "justify_items": null,
            "left": null,
            "margin": null,
            "max_height": null,
            "max_width": null,
            "min_height": null,
            "min_width": null,
            "object_fit": null,
            "object_position": null,
            "order": null,
            "overflow": null,
            "overflow_x": null,
            "overflow_y": null,
            "padding": null,
            "right": null,
            "top": null,
            "visibility": null,
            "width": null
          }
        },
        "17ac7597f4864a4e9ca239b66a738f4f": {
          "model_module": "@jupyter-widgets/base",
          "model_module_version": "1.2.0",
          "model_name": "LayoutModel",
          "state": {
            "_model_module": "@jupyter-widgets/base",
            "_model_module_version": "1.2.0",
            "_model_name": "LayoutModel",
            "_view_count": null,
            "_view_module": "@jupyter-widgets/base",
            "_view_module_version": "1.2.0",
            "_view_name": "LayoutView",
            "align_content": null,
            "align_items": null,
            "align_self": null,
            "border": null,
            "bottom": null,
            "display": null,
            "flex": null,
            "flex_flow": null,
            "grid_area": null,
            "grid_auto_columns": null,
            "grid_auto_flow": null,
            "grid_auto_rows": null,
            "grid_column": null,
            "grid_gap": null,
            "grid_row": null,
            "grid_template_areas": null,
            "grid_template_columns": null,
            "grid_template_rows": null,
            "height": null,
            "justify_content": null,
            "justify_items": null,
            "left": null,
            "margin": null,
            "max_height": null,
            "max_width": null,
            "min_height": null,
            "min_width": null,
            "object_fit": null,
            "object_position": null,
            "order": null,
            "overflow": null,
            "overflow_x": null,
            "overflow_y": null,
            "padding": null,
            "right": null,
            "top": null,
            "visibility": null,
            "width": null
          }
        },
        "34aef6cace5d4e5a98e625fdc5d6e187": {
          "model_module": "@jupyter-widgets/base",
          "model_module_version": "1.2.0",
          "model_name": "LayoutModel",
          "state": {
            "_model_module": "@jupyter-widgets/base",
            "_model_module_version": "1.2.0",
            "_model_name": "LayoutModel",
            "_view_count": null,
            "_view_module": "@jupyter-widgets/base",
            "_view_module_version": "1.2.0",
            "_view_name": "LayoutView",
            "align_content": null,
            "align_items": null,
            "align_self": null,
            "border": null,
            "bottom": null,
            "display": null,
            "flex": null,
            "flex_flow": null,
            "grid_area": null,
            "grid_auto_columns": null,
            "grid_auto_flow": null,
            "grid_auto_rows": null,
            "grid_column": null,
            "grid_gap": null,
            "grid_row": null,
            "grid_template_areas": null,
            "grid_template_columns": null,
            "grid_template_rows": null,
            "height": null,
            "justify_content": null,
            "justify_items": null,
            "left": null,
            "margin": null,
            "max_height": null,
            "max_width": null,
            "min_height": null,
            "min_width": null,
            "object_fit": null,
            "object_position": null,
            "order": null,
            "overflow": null,
            "overflow_x": null,
            "overflow_y": null,
            "padding": null,
            "right": null,
            "top": null,
            "visibility": null,
            "width": null
          }
        },
        "3bcf397dabb34897b3820c8963ba342d": {
          "model_module": "@jupyter-widgets/controls",
          "model_module_version": "1.5.0",
          "model_name": "DescriptionStyleModel",
          "state": {
            "_model_module": "@jupyter-widgets/controls",
            "_model_module_version": "1.5.0",
            "_model_name": "DescriptionStyleModel",
            "_view_count": null,
            "_view_module": "@jupyter-widgets/base",
            "_view_module_version": "1.2.0",
            "_view_name": "StyleView",
            "description_width": ""
          }
        },
        "3f172ecad85c4d85936c36273fba08be": {
          "model_module": "@jupyter-widgets/controls",
          "model_module_version": "1.5.0",
          "model_name": "HBoxModel",
          "state": {
            "_dom_classes": [],
            "_model_module": "@jupyter-widgets/controls",
            "_model_module_version": "1.5.0",
            "_model_name": "HBoxModel",
            "_view_count": null,
            "_view_module": "@jupyter-widgets/controls",
            "_view_module_version": "1.5.0",
            "_view_name": "HBoxView",
            "box_style": "",
            "children": [
              "IPY_MODEL_a5842025e503450f8938d5d806738885",
              "IPY_MODEL_fe422bf30e834b8dbb8860a22909a0a8",
              "IPY_MODEL_ce164addde2c457ea4db0662dd9e62a3"
            ],
            "layout": "IPY_MODEL_736f8e00c42543e6974a7296258fc787"
          }
        },
        "53c6fe643c944389bfb267c26d1f550c": {
          "model_module": "@jupyter-widgets/base",
          "model_module_version": "1.2.0",
          "model_name": "LayoutModel",
          "state": {
            "_model_module": "@jupyter-widgets/base",
            "_model_module_version": "1.2.0",
            "_model_name": "LayoutModel",
            "_view_count": null,
            "_view_module": "@jupyter-widgets/base",
            "_view_module_version": "1.2.0",
            "_view_name": "LayoutView",
            "align_content": null,
            "align_items": null,
            "align_self": null,
            "border": null,
            "bottom": null,
            "display": null,
            "flex": null,
            "flex_flow": null,
            "grid_area": null,
            "grid_auto_columns": null,
            "grid_auto_flow": null,
            "grid_auto_rows": null,
            "grid_column": null,
            "grid_gap": null,
            "grid_row": null,
            "grid_template_areas": null,
            "grid_template_columns": null,
            "grid_template_rows": null,
            "height": null,
            "justify_content": null,
            "justify_items": null,
            "left": null,
            "margin": null,
            "max_height": null,
            "max_width": null,
            "min_height": null,
            "min_width": null,
            "object_fit": null,
            "object_position": null,
            "order": null,
            "overflow": null,
            "overflow_x": null,
            "overflow_y": null,
            "padding": null,
            "right": null,
            "top": null,
            "visibility": null,
            "width": null
          }
        },
        "5895376ed1074cb28fa9a3af22e08078": {
          "model_module": "@jupyter-widgets/base",
          "model_module_version": "1.2.0",
          "model_name": "LayoutModel",
          "state": {
            "_model_module": "@jupyter-widgets/base",
            "_model_module_version": "1.2.0",
            "_model_name": "LayoutModel",
            "_view_count": null,
            "_view_module": "@jupyter-widgets/base",
            "_view_module_version": "1.2.0",
            "_view_name": "LayoutView",
            "align_content": null,
            "align_items": null,
            "align_self": null,
            "border": null,
            "bottom": null,
            "display": null,
            "flex": null,
            "flex_flow": null,
            "grid_area": null,
            "grid_auto_columns": null,
            "grid_auto_flow": null,
            "grid_auto_rows": null,
            "grid_column": null,
            "grid_gap": null,
            "grid_row": null,
            "grid_template_areas": null,
            "grid_template_columns": null,
            "grid_template_rows": null,
            "height": null,
            "justify_content": null,
            "justify_items": null,
            "left": null,
            "margin": null,
            "max_height": null,
            "max_width": null,
            "min_height": null,
            "min_width": null,
            "object_fit": null,
            "object_position": null,
            "order": null,
            "overflow": null,
            "overflow_x": null,
            "overflow_y": null,
            "padding": null,
            "right": null,
            "top": null,
            "visibility": null,
            "width": null
          }
        },
        "590a8503df224fc88a181a3f9f5c3c1c": {
          "model_module": "@jupyter-widgets/controls",
          "model_module_version": "1.5.0",
          "model_name": "HTMLModel",
          "state": {
            "_dom_classes": [],
            "_model_module": "@jupyter-widgets/controls",
            "_model_module_version": "1.5.0",
            "_model_name": "HTMLModel",
            "_view_count": null,
            "_view_module": "@jupyter-widgets/controls",
            "_view_module_version": "1.5.0",
            "_view_name": "HTMLView",
            "description": "",
            "description_tooltip": null,
            "layout": "IPY_MODEL_bf167a8a566b4a2696c4e9b69a07de86",
            "placeholder": "​",
            "style": "IPY_MODEL_fd7e48c33eb544eca337c43ea5099315",
            "value": "Downloading (…)lve/main/config.json: 100%"
          }
        },
        "5acfaa8ac5f24790b90f9acf3d231a87": {
          "model_module": "@jupyter-widgets/controls",
          "model_module_version": "1.5.0",
          "model_name": "ProgressStyleModel",
          "state": {
            "_model_module": "@jupyter-widgets/controls",
            "_model_module_version": "1.5.0",
            "_model_name": "ProgressStyleModel",
            "_view_count": null,
            "_view_module": "@jupyter-widgets/base",
            "_view_module_version": "1.2.0",
            "_view_name": "StyleView",
            "bar_color": null,
            "description_width": ""
          }
        },
        "5b07946ef0614ad882a279c8bcae9a59": {
          "model_module": "@jupyter-widgets/controls",
          "model_module_version": "1.5.0",
          "model_name": "ProgressStyleModel",
          "state": {
            "_model_module": "@jupyter-widgets/controls",
            "_model_module_version": "1.5.0",
            "_model_name": "ProgressStyleModel",
            "_view_count": null,
            "_view_module": "@jupyter-widgets/base",
            "_view_module_version": "1.2.0",
            "_view_name": "StyleView",
            "bar_color": null,
            "description_width": ""
          }
        },
        "68ed50e2758c43a6ac9730be6b5815de": {
          "model_module": "@jupyter-widgets/base",
          "model_module_version": "1.2.0",
          "model_name": "LayoutModel",
          "state": {
            "_model_module": "@jupyter-widgets/base",
            "_model_module_version": "1.2.0",
            "_model_name": "LayoutModel",
            "_view_count": null,
            "_view_module": "@jupyter-widgets/base",
            "_view_module_version": "1.2.0",
            "_view_name": "LayoutView",
            "align_content": null,
            "align_items": null,
            "align_self": null,
            "border": null,
            "bottom": null,
            "display": null,
            "flex": null,
            "flex_flow": null,
            "grid_area": null,
            "grid_auto_columns": null,
            "grid_auto_flow": null,
            "grid_auto_rows": null,
            "grid_column": null,
            "grid_gap": null,
            "grid_row": null,
            "grid_template_areas": null,
            "grid_template_columns": null,
            "grid_template_rows": null,
            "height": null,
            "justify_content": null,
            "justify_items": null,
            "left": null,
            "margin": null,
            "max_height": null,
            "max_width": null,
            "min_height": null,
            "min_width": null,
            "object_fit": null,
            "object_position": null,
            "order": null,
            "overflow": null,
            "overflow_x": null,
            "overflow_y": null,
            "padding": null,
            "right": null,
            "top": null,
            "visibility": null,
            "width": null
          }
        },
        "6e38da91399843c0b590f8830dc960ec": {
          "model_module": "@jupyter-widgets/controls",
          "model_module_version": "1.5.0",
          "model_name": "HTMLModel",
          "state": {
            "_dom_classes": [],
            "_model_module": "@jupyter-widgets/controls",
            "_model_module_version": "1.5.0",
            "_model_name": "HTMLModel",
            "_view_count": null,
            "_view_module": "@jupyter-widgets/controls",
            "_view_module_version": "1.5.0",
            "_view_name": "HTMLView",
            "description": "",
            "description_tooltip": null,
            "layout": "IPY_MODEL_a17bc6eea4814cc7a6f672122a0bc293",
            "placeholder": "​",
            "style": "IPY_MODEL_b2c793f2285e46a483c11c73a047ad38",
            "value": " 5.07M/5.07M [00:00&lt;00:00, 35.3MB/s]"
          }
        },
        "736f8e00c42543e6974a7296258fc787": {
          "model_module": "@jupyter-widgets/base",
          "model_module_version": "1.2.0",
          "model_name": "LayoutModel",
          "state": {
            "_model_module": "@jupyter-widgets/base",
            "_model_module_version": "1.2.0",
            "_model_name": "LayoutModel",
            "_view_count": null,
            "_view_module": "@jupyter-widgets/base",
            "_view_module_version": "1.2.0",
            "_view_name": "LayoutView",
            "align_content": null,
            "align_items": null,
            "align_self": null,
            "border": null,
            "bottom": null,
            "display": null,
            "flex": null,
            "flex_flow": null,
            "grid_area": null,
            "grid_auto_columns": null,
            "grid_auto_flow": null,
            "grid_auto_rows": null,
            "grid_column": null,
            "grid_gap": null,
            "grid_row": null,
            "grid_template_areas": null,
            "grid_template_columns": null,
            "grid_template_rows": null,
            "height": null,
            "justify_content": null,
            "justify_items": null,
            "left": null,
            "margin": null,
            "max_height": null,
            "max_width": null,
            "min_height": null,
            "min_width": null,
            "object_fit": null,
            "object_position": null,
            "order": null,
            "overflow": null,
            "overflow_x": null,
            "overflow_y": null,
            "padding": null,
            "right": null,
            "top": null,
            "visibility": null,
            "width": null
          }
        },
        "76253ba45b5947d6aae421c9d35e4553": {
          "model_module": "@jupyter-widgets/controls",
          "model_module_version": "1.5.0",
          "model_name": "FloatProgressModel",
          "state": {
            "_dom_classes": [],
            "_model_module": "@jupyter-widgets/controls",
            "_model_module_version": "1.5.0",
            "_model_name": "FloatProgressModel",
            "_view_count": null,
            "_view_module": "@jupyter-widgets/controls",
            "_view_module_version": "1.5.0",
            "_view_name": "ProgressView",
            "bar_style": "success",
            "description": "",
            "description_tooltip": null,
            "layout": "IPY_MODEL_968612eee60b41c98aaa89d284b5a18a",
            "max": 5069051,
            "min": 0,
            "orientation": "horizontal",
            "style": "IPY_MODEL_c3c5908b98a949e28fd965c46c96c9d3",
            "value": 5069051
          }
        },
        "8f2021525a8349eeb4c64a7a477368e1": {
          "model_module": "@jupyter-widgets/controls",
          "model_module_version": "1.5.0",
          "model_name": "DescriptionStyleModel",
          "state": {
            "_model_module": "@jupyter-widgets/controls",
            "_model_module_version": "1.5.0",
            "_model_name": "DescriptionStyleModel",
            "_view_count": null,
            "_view_module": "@jupyter-widgets/base",
            "_view_module_version": "1.2.0",
            "_view_name": "StyleView",
            "description_width": ""
          }
        },
        "92a950603b074c59bee97577a948c9af": {
          "model_module": "@jupyter-widgets/controls",
          "model_module_version": "1.5.0",
          "model_name": "HBoxModel",
          "state": {
            "_dom_classes": [],
            "_model_module": "@jupyter-widgets/controls",
            "_model_module_version": "1.5.0",
            "_model_name": "HBoxModel",
            "_view_count": null,
            "_view_module": "@jupyter-widgets/controls",
            "_view_module_version": "1.5.0",
            "_view_name": "HBoxView",
            "box_style": "",
            "children": [
              "IPY_MODEL_c8a73bec2e51462da4e6b43beea9f1db",
              "IPY_MODEL_76253ba45b5947d6aae421c9d35e4553",
              "IPY_MODEL_6e38da91399843c0b590f8830dc960ec"
            ],
            "layout": "IPY_MODEL_5895376ed1074cb28fa9a3af22e08078"
          }
        },
        "968612eee60b41c98aaa89d284b5a18a": {
          "model_module": "@jupyter-widgets/base",
          "model_module_version": "1.2.0",
          "model_name": "LayoutModel",
          "state": {
            "_model_module": "@jupyter-widgets/base",
            "_model_module_version": "1.2.0",
            "_model_name": "LayoutModel",
            "_view_count": null,
            "_view_module": "@jupyter-widgets/base",
            "_view_module_version": "1.2.0",
            "_view_name": "LayoutView",
            "align_content": null,
            "align_items": null,
            "align_self": null,
            "border": null,
            "bottom": null,
            "display": null,
            "flex": null,
            "flex_flow": null,
            "grid_area": null,
            "grid_auto_columns": null,
            "grid_auto_flow": null,
            "grid_auto_rows": null,
            "grid_column": null,
            "grid_gap": null,
            "grid_row": null,
            "grid_template_areas": null,
            "grid_template_columns": null,
            "grid_template_rows": null,
            "height": null,
            "justify_content": null,
            "justify_items": null,
            "left": null,
            "margin": null,
            "max_height": null,
            "max_width": null,
            "min_height": null,
            "min_width": null,
            "object_fit": null,
            "object_position": null,
            "order": null,
            "overflow": null,
            "overflow_x": null,
            "overflow_y": null,
            "padding": null,
            "right": null,
            "top": null,
            "visibility": null,
            "width": null
          }
        },
        "a17bc6eea4814cc7a6f672122a0bc293": {
          "model_module": "@jupyter-widgets/base",
          "model_module_version": "1.2.0",
          "model_name": "LayoutModel",
          "state": {
            "_model_module": "@jupyter-widgets/base",
            "_model_module_version": "1.2.0",
            "_model_name": "LayoutModel",
            "_view_count": null,
            "_view_module": "@jupyter-widgets/base",
            "_view_module_version": "1.2.0",
            "_view_name": "LayoutView",
            "align_content": null,
            "align_items": null,
            "align_self": null,
            "border": null,
            "bottom": null,
            "display": null,
            "flex": null,
            "flex_flow": null,
            "grid_area": null,
            "grid_auto_columns": null,
            "grid_auto_flow": null,
            "grid_auto_rows": null,
            "grid_column": null,
            "grid_gap": null,
            "grid_row": null,
            "grid_template_areas": null,
            "grid_template_columns": null,
            "grid_template_rows": null,
            "height": null,
            "justify_content": null,
            "justify_items": null,
            "left": null,
            "margin": null,
            "max_height": null,
            "max_width": null,
            "min_height": null,
            "min_width": null,
            "object_fit": null,
            "object_position": null,
            "order": null,
            "overflow": null,
            "overflow_x": null,
            "overflow_y": null,
            "padding": null,
            "right": null,
            "top": null,
            "visibility": null,
            "width": null
          }
        },
        "a5842025e503450f8938d5d806738885": {
          "model_module": "@jupyter-widgets/controls",
          "model_module_version": "1.5.0",
          "model_name": "HTMLModel",
          "state": {
            "_dom_classes": [],
            "_model_module": "@jupyter-widgets/controls",
            "_model_module_version": "1.5.0",
            "_model_name": "HTMLModel",
            "_view_count": null,
            "_view_module": "@jupyter-widgets/controls",
            "_view_module_version": "1.5.0",
            "_view_name": "HTMLView",
            "description": "",
            "description_tooltip": null,
            "layout": "IPY_MODEL_17ac7597f4864a4e9ca239b66a738f4f",
            "placeholder": "​",
            "style": "IPY_MODEL_00c2afdd2c9d4e25810d773ebd1fc4e7",
            "value": "Downloading model.safetensors: 100%"
          }
        },
        "aeec046050e34da9bd03431c47b2931e": {
          "model_module": "@jupyter-widgets/base",
          "model_module_version": "1.2.0",
          "model_name": "LayoutModel",
          "state": {
            "_model_module": "@jupyter-widgets/base",
            "_model_module_version": "1.2.0",
            "_model_name": "LayoutModel",
            "_view_count": null,
            "_view_module": "@jupyter-widgets/base",
            "_view_module_version": "1.2.0",
            "_view_name": "LayoutView",
            "align_content": null,
            "align_items": null,
            "align_self": null,
            "border": null,
            "bottom": null,
            "display": null,
            "flex": null,
            "flex_flow": null,
            "grid_area": null,
            "grid_auto_columns": null,
            "grid_auto_flow": null,
            "grid_auto_rows": null,
            "grid_column": null,
            "grid_gap": null,
            "grid_row": null,
            "grid_template_areas": null,
            "grid_template_columns": null,
            "grid_template_rows": null,
            "height": null,
            "justify_content": null,
            "justify_items": null,
            "left": null,
            "margin": null,
            "max_height": null,
            "max_width": null,
            "min_height": null,
            "min_width": null,
            "object_fit": null,
            "object_position": null,
            "order": null,
            "overflow": null,
            "overflow_x": null,
            "overflow_y": null,
            "padding": null,
            "right": null,
            "top": null,
            "visibility": null,
            "width": null
          }
        },
        "b2c793f2285e46a483c11c73a047ad38": {
          "model_module": "@jupyter-widgets/controls",
          "model_module_version": "1.5.0",
          "model_name": "DescriptionStyleModel",
          "state": {
            "_model_module": "@jupyter-widgets/controls",
            "_model_module_version": "1.5.0",
            "_model_name": "DescriptionStyleModel",
            "_view_count": null,
            "_view_module": "@jupyter-widgets/base",
            "_view_module_version": "1.2.0",
            "_view_name": "StyleView",
            "description_width": ""
          }
        },
        "bf167a8a566b4a2696c4e9b69a07de86": {
          "model_module": "@jupyter-widgets/base",
          "model_module_version": "1.2.0",
          "model_name": "LayoutModel",
          "state": {
            "_model_module": "@jupyter-widgets/base",
            "_model_module_version": "1.2.0",
            "_model_name": "LayoutModel",
            "_view_count": null,
            "_view_module": "@jupyter-widgets/base",
            "_view_module_version": "1.2.0",
            "_view_name": "LayoutView",
            "align_content": null,
            "align_items": null,
            "align_self": null,
            "border": null,
            "bottom": null,
            "display": null,
            "flex": null,
            "flex_flow": null,
            "grid_area": null,
            "grid_auto_columns": null,
            "grid_auto_flow": null,
            "grid_auto_rows": null,
            "grid_column": null,
            "grid_gap": null,
            "grid_row": null,
            "grid_template_areas": null,
            "grid_template_columns": null,
            "grid_template_rows": null,
            "height": null,
            "justify_content": null,
            "justify_items": null,
            "left": null,
            "margin": null,
            "max_height": null,
            "max_width": null,
            "min_height": null,
            "min_width": null,
            "object_fit": null,
            "object_position": null,
            "order": null,
            "overflow": null,
            "overflow_x": null,
            "overflow_y": null,
            "padding": null,
            "right": null,
            "top": null,
            "visibility": null,
            "width": null
          }
        },
        "c3c5908b98a949e28fd965c46c96c9d3": {
          "model_module": "@jupyter-widgets/controls",
          "model_module_version": "1.5.0",
          "model_name": "ProgressStyleModel",
          "state": {
            "_model_module": "@jupyter-widgets/controls",
            "_model_module_version": "1.5.0",
            "_model_name": "ProgressStyleModel",
            "_view_count": null,
            "_view_module": "@jupyter-widgets/base",
            "_view_module_version": "1.2.0",
            "_view_name": "StyleView",
            "bar_color": null,
            "description_width": ""
          }
        },
        "c51a2d24be3b43b08fc5f4a1c7aae893": {
          "model_module": "@jupyter-widgets/base",
          "model_module_version": "1.2.0",
          "model_name": "LayoutModel",
          "state": {
            "_model_module": "@jupyter-widgets/base",
            "_model_module_version": "1.2.0",
            "_model_name": "LayoutModel",
            "_view_count": null,
            "_view_module": "@jupyter-widgets/base",
            "_view_module_version": "1.2.0",
            "_view_name": "LayoutView",
            "align_content": null,
            "align_items": null,
            "align_self": null,
            "border": null,
            "bottom": null,
            "display": null,
            "flex": null,
            "flex_flow": null,
            "grid_area": null,
            "grid_auto_columns": null,
            "grid_auto_flow": null,
            "grid_auto_rows": null,
            "grid_column": null,
            "grid_gap": null,
            "grid_row": null,
            "grid_template_areas": null,
            "grid_template_columns": null,
            "grid_template_rows": null,
            "height": null,
            "justify_content": null,
            "justify_items": null,
            "left": null,
            "margin": null,
            "max_height": null,
            "max_width": null,
            "min_height": null,
            "min_width": null,
            "object_fit": null,
            "object_position": null,
            "order": null,
            "overflow": null,
            "overflow_x": null,
            "overflow_y": null,
            "padding": null,
            "right": null,
            "top": null,
            "visibility": null,
            "width": null
          }
        },
        "c8a73bec2e51462da4e6b43beea9f1db": {
          "model_module": "@jupyter-widgets/controls",
          "model_module_version": "1.5.0",
          "model_name": "HTMLModel",
          "state": {
            "_dom_classes": [],
            "_model_module": "@jupyter-widgets/controls",
            "_model_module_version": "1.5.0",
            "_model_name": "HTMLModel",
            "_view_count": null,
            "_view_module": "@jupyter-widgets/controls",
            "_view_module_version": "1.5.0",
            "_view_name": "HTMLView",
            "description": "",
            "description_tooltip": null,
            "layout": "IPY_MODEL_aeec046050e34da9bd03431c47b2931e",
            "placeholder": "​",
            "style": "IPY_MODEL_8f2021525a8349eeb4c64a7a477368e1",
            "value": "Downloading (…)tencepiece.bpe.model: 100%"
          }
        },
        "ce164addde2c457ea4db0662dd9e62a3": {
          "model_module": "@jupyter-widgets/controls",
          "model_module_version": "1.5.0",
          "model_name": "HTMLModel",
          "state": {
            "_dom_classes": [],
            "_model_module": "@jupyter-widgets/controls",
            "_model_module_version": "1.5.0",
            "_model_name": "HTMLModel",
            "_view_count": null,
            "_view_module": "@jupyter-widgets/controls",
            "_view_module_version": "1.5.0",
            "_view_name": "HTMLView",
            "description": "",
            "description_tooltip": null,
            "layout": "IPY_MODEL_c51a2d24be3b43b08fc5f4a1c7aae893",
            "placeholder": "​",
            "style": "IPY_MODEL_09cbd88717654efc84302e8a36343ee9",
            "value": " 1.12G/1.12G [00:12&lt;00:00, 182MB/s]"
          }
        },
        "d92e6327b37d4a96a3c401e1b159db4e": {
          "model_module": "@jupyter-widgets/controls",
          "model_module_version": "1.5.0",
          "model_name": "FloatProgressModel",
          "state": {
            "_dom_classes": [],
            "_model_module": "@jupyter-widgets/controls",
            "_model_module_version": "1.5.0",
            "_model_name": "FloatProgressModel",
            "_view_count": null,
            "_view_module": "@jupyter-widgets/controls",
            "_view_module_version": "1.5.0",
            "_view_name": "ProgressView",
            "bar_style": "success",
            "description": "",
            "description_tooltip": null,
            "layout": "IPY_MODEL_53c6fe643c944389bfb267c26d1f550c",
            "max": 615,
            "min": 0,
            "orientation": "horizontal",
            "style": "IPY_MODEL_5b07946ef0614ad882a279c8bcae9a59",
            "value": 615
          }
        },
        "e90310f44eb74813ac6c30723d7334d9": {
          "model_module": "@jupyter-widgets/controls",
          "model_module_version": "1.5.0",
          "model_name": "HTMLModel",
          "state": {
            "_dom_classes": [],
            "_model_module": "@jupyter-widgets/controls",
            "_model_module_version": "1.5.0",
            "_model_name": "HTMLModel",
            "_view_count": null,
            "_view_module": "@jupyter-widgets/controls",
            "_view_module_version": "1.5.0",
            "_view_name": "HTMLView",
            "description": "",
            "description_tooltip": null,
            "layout": "IPY_MODEL_16f1be499fdc4abb9cf4a7253573883a",
            "placeholder": "​",
            "style": "IPY_MODEL_3bcf397dabb34897b3820c8963ba342d",
            "value": " 615/615 [00:00&lt;00:00, 34.3kB/s]"
          }
        },
        "fd7e48c33eb544eca337c43ea5099315": {
          "model_module": "@jupyter-widgets/controls",
          "model_module_version": "1.5.0",
          "model_name": "DescriptionStyleModel",
          "state": {
            "_model_module": "@jupyter-widgets/controls",
            "_model_module_version": "1.5.0",
            "_model_name": "DescriptionStyleModel",
            "_view_count": null,
            "_view_module": "@jupyter-widgets/base",
            "_view_module_version": "1.2.0",
            "_view_name": "StyleView",
            "description_width": ""
          }
        },
        "fe422bf30e834b8dbb8860a22909a0a8": {
          "model_module": "@jupyter-widgets/controls",
          "model_module_version": "1.5.0",
          "model_name": "FloatProgressModel",
          "state": {
            "_dom_classes": [],
            "_model_module": "@jupyter-widgets/controls",
            "_model_module_version": "1.5.0",
            "_model_name": "FloatProgressModel",
            "_view_count": null,
            "_view_module": "@jupyter-widgets/controls",
            "_view_module_version": "1.5.0",
            "_view_name": "ProgressView",
            "bar_style": "success",
            "description": "",
            "description_tooltip": null,
            "layout": "IPY_MODEL_68ed50e2758c43a6ac9730be6b5815de",
            "max": 1115567652,
            "min": 0,
            "orientation": "horizontal",
            "style": "IPY_MODEL_5acfaa8ac5f24790b90f9acf3d231a87",
            "value": 1115567652
          }
        }
      }
    }
  },
  "nbformat": 4,
  "nbformat_minor": 0
}